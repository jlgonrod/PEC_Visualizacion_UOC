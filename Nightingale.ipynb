{
 "cells": [
  {
   "cell_type": "markdown",
   "id": "a4856e86",
   "metadata": {},
   "source": [
    "<div style=\"width: 100%; clear: both;\">\n",
    "<div style=\"float: left; width: 50%;\">\n",
    "<img src=\"http://www.uoc.edu/portal/_resources/common/imatges/marca_UOC/UOC_Masterbrand.jpg\", align=\"left\">\n",
    "</div>\n",
    "<div style=\"float: right; width: 50%;\">\n",
    "<p style=\"margin: 0; padding-top: 22px; text-align:right;\">M2.859 · Visualización de datos</p>\n",
    "<p style=\"margin: 0; text-align:right;\">2022-1 · Máster universitario en Ciencia de datos (<i>Data science</i>)</p>\n",
    "</div>\n",
    "</div>\n",
    "<div style=\"width:100%;\">&nbsp;</div>"
   ]
  },
  {
   "cell_type": "markdown",
   "id": "1de7cd70",
   "metadata": {},
   "source": [
    "<div class=\"alert alert-block alert-info\">\n",
    "    <strong>Nombre y apellidos:</strong> Juan Luis González Rodríguez\n",
    "</div>"
   ]
  },
  {
   "cell_type": "markdown",
   "id": "9d91b740",
   "metadata": {},
   "source": [
    "# PEC 2 - Nightingale rose"
   ]
  },
  {
   "cell_type": "markdown",
   "id": "0a5e6084",
   "metadata": {},
   "source": [
    "En primer lugar se cargan las librerias necesarias para procesar el dataset original y para imprimir el gráfico"
   ]
  },
  {
   "cell_type": "code",
   "execution_count": 1,
   "id": "9deaec34",
   "metadata": {},
   "outputs": [],
   "source": [
    "import pandas as pd\n",
    "import matplotlib.pyplot as plt\n",
    "import matplotlib.patches as mpatches\n",
    "from matplotlib import ticker\n",
    "import numpy as np\n",
    "from IPython.display import display"
   ]
  },
  {
   "cell_type": "markdown",
   "id": "d36dcd27",
   "metadata": {},
   "source": [
    "A continuación cargamos el df usando la librería `Pandas`. Se elimina el campo relativo a *Pais* ya que se va a considerar los casos en todo el mundo. Se estudiarán los casos detectados y las muertes producidas por ébola en el año 2015 mes a mes. El <a href=\"https://www.kaggle.com/datasets/imdevskp/ebola-outbreak-20142016-complete-dataset?select=ebola_2014_2016_clean.csv/\">dataset original</a> contiene los datos del ébola a nivel mundial entre 2014 y 2016."
   ]
  },
  {
   "cell_type": "code",
   "execution_count": 2,
   "id": "a67161b5",
   "metadata": {
    "scrolled": false
   },
   "outputs": [
    {
     "data": {
      "text/html": [
       "<div>\n",
       "<style scoped>\n",
       "    .dataframe tbody tr th:only-of-type {\n",
       "        vertical-align: middle;\n",
       "    }\n",
       "\n",
       "    .dataframe tbody tr th {\n",
       "        vertical-align: top;\n",
       "    }\n",
       "\n",
       "    .dataframe thead th {\n",
       "        text-align: right;\n",
       "    }\n",
       "</style>\n",
       "<table border=\"1\" class=\"dataframe\">\n",
       "  <thead>\n",
       "    <tr style=\"text-align: right;\">\n",
       "      <th></th>\n",
       "      <th>Date</th>\n",
       "      <th>Cumulative no. of confirmed, probable and suspected cases</th>\n",
       "      <th>Cumulative no. of confirmed, probable and suspected deaths</th>\n",
       "    </tr>\n",
       "  </thead>\n",
       "  <tbody>\n",
       "    <tr>\n",
       "      <th>0</th>\n",
       "      <td>2014-08-29</td>\n",
       "      <td>648.0</td>\n",
       "      <td>430.0</td>\n",
       "    </tr>\n",
       "    <tr>\n",
       "      <th>1</th>\n",
       "      <td>2014-08-29</td>\n",
       "      <td>19.0</td>\n",
       "      <td>7.0</td>\n",
       "    </tr>\n",
       "    <tr>\n",
       "      <th>2</th>\n",
       "      <td>2014-08-29</td>\n",
       "      <td>1026.0</td>\n",
       "      <td>422.0</td>\n",
       "    </tr>\n",
       "    <tr>\n",
       "      <th>3</th>\n",
       "      <td>2014-08-29</td>\n",
       "      <td>1378.0</td>\n",
       "      <td>694.0</td>\n",
       "    </tr>\n",
       "    <tr>\n",
       "      <th>4</th>\n",
       "      <td>2014-09-05</td>\n",
       "      <td>1261.0</td>\n",
       "      <td>491.0</td>\n",
       "    </tr>\n",
       "  </tbody>\n",
       "</table>\n",
       "</div>"
      ],
      "text/plain": [
       "         Date  Cumulative no. of confirmed, probable and suspected cases  \\\n",
       "0  2014-08-29                                              648.0           \n",
       "1  2014-08-29                                               19.0           \n",
       "2  2014-08-29                                             1026.0           \n",
       "3  2014-08-29                                             1378.0           \n",
       "4  2014-09-05                                             1261.0           \n",
       "\n",
       "   Cumulative no. of confirmed, probable and suspected deaths  \n",
       "0                                              430.0           \n",
       "1                                                7.0           \n",
       "2                                              422.0           \n",
       "3                                              694.0           \n",
       "4                                              491.0           "
      ]
     },
     "execution_count": 2,
     "metadata": {},
     "output_type": "execute_result"
    }
   ],
   "source": [
    "# Se carga el csv\n",
    "df = pd.read_csv('./dataset/ebola_2014_2016_clean.csv')\n",
    "# Se elimina el campo relativo al país\n",
    "df = df.drop([\"Country\"], axis=1)\n",
    "# Se muestran las primeras filas\n",
    "df.head()"
   ]
  },
  {
   "cell_type": "markdown",
   "id": "6c9855c1",
   "metadata": {},
   "source": [
    "Se procesa el campo *Date*, actualmente es una cadena. Se convierte el tipo de datos que almacena en *DateTime*. Posterirmente se crea una columna en la que almacenamos el años y otra para el mes, extraidas de la columna original *Date*."
   ]
  },
  {
   "cell_type": "code",
   "execution_count": 3,
   "id": "a67bd31d",
   "metadata": {
    "scrolled": true
   },
   "outputs": [
    {
     "data": {
      "text/html": [
       "<div>\n",
       "<style scoped>\n",
       "    .dataframe tbody tr th:only-of-type {\n",
       "        vertical-align: middle;\n",
       "    }\n",
       "\n",
       "    .dataframe tbody tr th {\n",
       "        vertical-align: top;\n",
       "    }\n",
       "\n",
       "    .dataframe thead th {\n",
       "        text-align: right;\n",
       "    }\n",
       "</style>\n",
       "<table border=\"1\" class=\"dataframe\">\n",
       "  <thead>\n",
       "    <tr style=\"text-align: right;\">\n",
       "      <th></th>\n",
       "      <th>Cumulative no. of confirmed, probable and suspected cases</th>\n",
       "      <th>Cumulative no. of confirmed, probable and suspected deaths</th>\n",
       "      <th>Year</th>\n",
       "      <th>Month</th>\n",
       "    </tr>\n",
       "  </thead>\n",
       "  <tbody>\n",
       "    <tr>\n",
       "      <th>0</th>\n",
       "      <td>648.0</td>\n",
       "      <td>430.0</td>\n",
       "      <td>2014</td>\n",
       "      <td>8</td>\n",
       "    </tr>\n",
       "    <tr>\n",
       "      <th>1</th>\n",
       "      <td>19.0</td>\n",
       "      <td>7.0</td>\n",
       "      <td>2014</td>\n",
       "      <td>8</td>\n",
       "    </tr>\n",
       "    <tr>\n",
       "      <th>2</th>\n",
       "      <td>1026.0</td>\n",
       "      <td>422.0</td>\n",
       "      <td>2014</td>\n",
       "      <td>8</td>\n",
       "    </tr>\n",
       "    <tr>\n",
       "      <th>3</th>\n",
       "      <td>1378.0</td>\n",
       "      <td>694.0</td>\n",
       "      <td>2014</td>\n",
       "      <td>8</td>\n",
       "    </tr>\n",
       "    <tr>\n",
       "      <th>4</th>\n",
       "      <td>1261.0</td>\n",
       "      <td>491.0</td>\n",
       "      <td>2014</td>\n",
       "      <td>9</td>\n",
       "    </tr>\n",
       "  </tbody>\n",
       "</table>\n",
       "</div>"
      ],
      "text/plain": [
       "   Cumulative no. of confirmed, probable and suspected cases  \\\n",
       "0                                              648.0           \n",
       "1                                               19.0           \n",
       "2                                             1026.0           \n",
       "3                                             1378.0           \n",
       "4                                             1261.0           \n",
       "\n",
       "   Cumulative no. of confirmed, probable and suspected deaths  Year  Month  \n",
       "0                                              430.0           2014      8  \n",
       "1                                                7.0           2014      8  \n",
       "2                                              422.0           2014      8  \n",
       "3                                              694.0           2014      8  \n",
       "4                                              491.0           2014      9  "
      ]
     },
     "execution_count": 3,
     "metadata": {},
     "output_type": "execute_result"
    }
   ],
   "source": [
    "# Se convierte date a datatime y se extrae el mes y el año\n",
    "df[\"Date\"]=pd.to_datetime(df[\"Date\"])\n",
    "df[\"Year\"] = pd.DatetimeIndex(df['Date']).year\n",
    "df[\"Month\"] = pd.DatetimeIndex(df['Date']).month\n",
    "\n",
    "# Se elimina la columna original de fecha\n",
    "df = df.drop(columns=\"Date\")\n",
    "\n",
    "# Se muestran las primeras filas\n",
    "df.head()"
   ]
  },
  {
   "cell_type": "markdown",
   "id": "8df33837",
   "metadata": {},
   "source": [
    "Se renombran las columnas y se ordenan para que sea más fácil trabajar con ellas."
   ]
  },
  {
   "cell_type": "code",
   "execution_count": 4,
   "id": "639d5c6e",
   "metadata": {
    "scrolled": true
   },
   "outputs": [
    {
     "data": {
      "text/html": [
       "<div>\n",
       "<style scoped>\n",
       "    .dataframe tbody tr th:only-of-type {\n",
       "        vertical-align: middle;\n",
       "    }\n",
       "\n",
       "    .dataframe tbody tr th {\n",
       "        vertical-align: top;\n",
       "    }\n",
       "\n",
       "    .dataframe thead th {\n",
       "        text-align: right;\n",
       "    }\n",
       "</style>\n",
       "<table border=\"1\" class=\"dataframe\">\n",
       "  <thead>\n",
       "    <tr style=\"text-align: right;\">\n",
       "      <th></th>\n",
       "      <th>Year</th>\n",
       "      <th>Month</th>\n",
       "      <th>Cases</th>\n",
       "      <th>Deaths</th>\n",
       "    </tr>\n",
       "  </thead>\n",
       "  <tbody>\n",
       "    <tr>\n",
       "      <th>0</th>\n",
       "      <td>2014</td>\n",
       "      <td>8</td>\n",
       "      <td>648.0</td>\n",
       "      <td>430.0</td>\n",
       "    </tr>\n",
       "    <tr>\n",
       "      <th>1</th>\n",
       "      <td>2014</td>\n",
       "      <td>8</td>\n",
       "      <td>19.0</td>\n",
       "      <td>7.0</td>\n",
       "    </tr>\n",
       "    <tr>\n",
       "      <th>2</th>\n",
       "      <td>2014</td>\n",
       "      <td>8</td>\n",
       "      <td>1026.0</td>\n",
       "      <td>422.0</td>\n",
       "    </tr>\n",
       "    <tr>\n",
       "      <th>3</th>\n",
       "      <td>2014</td>\n",
       "      <td>8</td>\n",
       "      <td>1378.0</td>\n",
       "      <td>694.0</td>\n",
       "    </tr>\n",
       "    <tr>\n",
       "      <th>4</th>\n",
       "      <td>2014</td>\n",
       "      <td>9</td>\n",
       "      <td>1261.0</td>\n",
       "      <td>491.0</td>\n",
       "    </tr>\n",
       "  </tbody>\n",
       "</table>\n",
       "</div>"
      ],
      "text/plain": [
       "   Year  Month   Cases  Deaths\n",
       "0  2014      8   648.0   430.0\n",
       "1  2014      8    19.0     7.0\n",
       "2  2014      8  1026.0   422.0\n",
       "3  2014      8  1378.0   694.0\n",
       "4  2014      9  1261.0   491.0"
      ]
     },
     "execution_count": 4,
     "metadata": {},
     "output_type": "execute_result"
    }
   ],
   "source": [
    "df.columns = [\"Cases\", \"Deaths\", \"Year\", \"Month\"]\n",
    "df = df[[\"Year\", \"Month\", \"Cases\", \"Deaths\"]]\n",
    "\n",
    "# Se muestran los cambios\n",
    "df.head()"
   ]
  },
  {
   "cell_type": "markdown",
   "id": "d81afa6e",
   "metadata": {},
   "source": [
    "Por último, se filtran datos, se estudiará el total de casos detectados y de muerte producidas en 2015. Por lo que se eliminan los registros que no pertenencen a 2015, posteriormente se agrupan el recuento de los casos y el de las muertes mes a mes."
   ]
  },
  {
   "cell_type": "code",
   "execution_count": 5,
   "id": "25569d38",
   "metadata": {
    "scrolled": false
   },
   "outputs": [
    {
     "data": {
      "text/html": [
       "<div>\n",
       "<style scoped>\n",
       "    .dataframe tbody tr th:only-of-type {\n",
       "        vertical-align: middle;\n",
       "    }\n",
       "\n",
       "    .dataframe tbody tr th {\n",
       "        vertical-align: top;\n",
       "    }\n",
       "\n",
       "    .dataframe thead th {\n",
       "        text-align: right;\n",
       "    }\n",
       "</style>\n",
       "<table border=\"1\" class=\"dataframe\">\n",
       "  <thead>\n",
       "    <tr style=\"text-align: right;\">\n",
       "      <th></th>\n",
       "      <th></th>\n",
       "      <th>Cases</th>\n",
       "      <th>Deaths</th>\n",
       "    </tr>\n",
       "    <tr>\n",
       "      <th>Year</th>\n",
       "      <th>Month</th>\n",
       "      <th></th>\n",
       "      <th></th>\n",
       "    </tr>\n",
       "  </thead>\n",
       "  <tbody>\n",
       "    <tr>\n",
       "      <th rowspan=\"12\" valign=\"top\">2015</th>\n",
       "      <th>1</th>\n",
       "      <td>450228.0</td>\n",
       "      <td>178640.0</td>\n",
       "    </tr>\n",
       "    <tr>\n",
       "      <th>2</th>\n",
       "      <td>415694.0</td>\n",
       "      <td>167259.0</td>\n",
       "    </tr>\n",
       "    <tr>\n",
       "      <th>3</th>\n",
       "      <td>416923.0</td>\n",
       "      <td>171715.0</td>\n",
       "    </tr>\n",
       "    <tr>\n",
       "      <th>4</th>\n",
       "      <td>388932.0</td>\n",
       "      <td>161191.0</td>\n",
       "    </tr>\n",
       "    <tr>\n",
       "      <th>5</th>\n",
       "      <td>563297.0</td>\n",
       "      <td>232726.0</td>\n",
       "    </tr>\n",
       "    <tr>\n",
       "      <th>6</th>\n",
       "      <td>601666.0</td>\n",
       "      <td>246198.0</td>\n",
       "    </tr>\n",
       "    <tr>\n",
       "      <th>7</th>\n",
       "      <td>637051.0</td>\n",
       "      <td>259330.0</td>\n",
       "    </tr>\n",
       "    <tr>\n",
       "      <th>8</th>\n",
       "      <td>587825.0</td>\n",
       "      <td>237290.0</td>\n",
       "    </tr>\n",
       "    <tr>\n",
       "      <th>9</th>\n",
       "      <td>621704.0</td>\n",
       "      <td>248770.0</td>\n",
       "    </tr>\n",
       "    <tr>\n",
       "      <th>10</th>\n",
       "      <td>484586.0</td>\n",
       "      <td>192312.0</td>\n",
       "    </tr>\n",
       "    <tr>\n",
       "      <th>11</th>\n",
       "      <td>314925.0</td>\n",
       "      <td>124454.0</td>\n",
       "    </tr>\n",
       "    <tr>\n",
       "      <th>12</th>\n",
       "      <td>343652.0</td>\n",
       "      <td>135779.0</td>\n",
       "    </tr>\n",
       "  </tbody>\n",
       "</table>\n",
       "</div>"
      ],
      "text/plain": [
       "               Cases    Deaths\n",
       "Year Month                    \n",
       "2015 1      450228.0  178640.0\n",
       "     2      415694.0  167259.0\n",
       "     3      416923.0  171715.0\n",
       "     4      388932.0  161191.0\n",
       "     5      563297.0  232726.0\n",
       "     6      601666.0  246198.0\n",
       "     7      637051.0  259330.0\n",
       "     8      587825.0  237290.0\n",
       "     9      621704.0  248770.0\n",
       "     10     484586.0  192312.0\n",
       "     11     314925.0  124454.0\n",
       "     12     343652.0  135779.0"
      ]
     },
     "metadata": {},
     "output_type": "display_data"
    }
   ],
   "source": [
    "df = df[df[\"Year\"] == 2015].groupby([\"Year\", \"Month\"]).sum()\n",
    "display(df)"
   ]
  },
  {
   "cell_type": "markdown",
   "id": "2464ef80",
   "metadata": {},
   "source": [
    "A continuación se transforman los datos para imprimir el gráfico `Nightingale Rose`."
   ]
  },
  {
   "cell_type": "code",
   "execution_count": 6,
   "id": "e4ead8f9",
   "metadata": {},
   "outputs": [],
   "source": [
    "# Se convierten a listas el número de casos detectados y de muertes\n",
    "casos = list(df[\"Cases\"])\n",
    "muertes = list(df[\"Deaths\"])\n",
    "\n",
    "# Se crea una lista con la abreviación de los meses\n",
    "meses = [\"Ene\", \"Feb\", \"Mar\", \"Abr\", \"May\", \"Jun\", \"Jul\", \"Ago\", \"Sep\", \"Oct\", \"Nov\", \"Dic\"]"
   ]
  },
  {
   "cell_type": "code",
   "execution_count": 7,
   "id": "f6889cb5",
   "metadata": {
    "scrolled": false
   },
   "outputs": [
    {
     "data": {
      "image/png": "[encoded data removed]",
      "text/plain": [
       "<Figure size 1000x1000 with 1 Axes>"
      ]
     },
     "metadata": {},
     "output_type": "display_data"
    }
   ],
   "source": [
    "# Se calcula en cuantos segmentos se va a dividir el círculo.\n",
    "segments = len(df)\n",
    "\n",
    "# Las x irán desde 0 hasta 2 pi (circulo completo)\n",
    "x_max = 2*np.pi\n",
    "\n",
    "# Se calculan las 12 coordenadas de las \"barras\" en el círculo y su ancho.\n",
    "x_coords = np.linspace(0, x_max, segments, endpoint=False)\n",
    "width = x_max / segments\n",
    "\n",
    "# Se hace el plot\n",
    "plt.figure(figsize=(10, 10))\n",
    "ax = plt.subplot(111, polar=True)\n",
    "ax.set_theta_direction(-1)\n",
    "ax.set_theta_offset(5*np.pi/12)\n",
    "\n",
    "# Se imprimen las áreas relativas al número de casos\n",
    "ax.bar(\n",
    "    x_coords,\n",
    "    casos,\n",
    "    width=width,\n",
    "    color=\"#fcd5a2\",\n",
    "    edgecolor=\"white\",\n",
    "    linewidth=1\n",
    ")\n",
    "\n",
    "# Se imprimen las áreas relativas al número de muertes\n",
    "ax.bar(\n",
    "    x_coords,\n",
    "    muertes,\n",
    "    width=width,\n",
    "    color=\"#3b3b3b\",\n",
    "    edgecolor=\"white\",\n",
    "    linewidth=1\n",
    ")\n",
    "\n",
    "# Se imprimen las etiquetas de los meses\n",
    "for m in range(len(meses)):\n",
    "    ax.text(\n",
    "        x_coords[m],\n",
    "        casos[m]*1.1,\n",
    "        meses[m]\n",
    "    )\n",
    "\n",
    "# Se imprime la leyenda que identifica los colores\n",
    "c_patch = mpatches.Patch(color='#fcd5a2', label='Casos detectados')\n",
    "d_patch = mpatches.Patch(color='#3b3b3b', label='Decesos')\n",
    "plt.legend(handles=[c_patch, d_patch], loc='lower right')\n",
    "\n",
    "# Se da formato\n",
    "plt.axis(\"off\")\n",
    "plt.title(\"Casos detectados y muertes por ébola en el mundo en 2015\", {'fontsize':15}, y = 0.9)\n",
    "\n",
    "plt.show()"
   ]
  }
 ],
 "metadata": {
  "kernelspec": {
   "display_name": "Python 3 (ipykernel)",
   "language": "python",
   "name": "python3"
  },
  "language_info": {
   "codemirror_mode": {
    "name": "ipython",
    "version": 3
   },
   "file_extension": ".py",
   "mimetype": "text/x-python",
   "name": "python",
   "nbconvert_exporter": "python",
   "pygments_lexer": "ipython3",
   "version": "3.9.1"
  }
 },
 "nbformat": 4,
 "nbformat_minor": 5
}
